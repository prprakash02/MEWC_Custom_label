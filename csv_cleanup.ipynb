{
 "cells": [
  {
   "cell_type": "markdown",
   "metadata": {},
   "source": [
    "# Custom Label"
   ]
  },
  {
   "cell_type": "markdown",
   "metadata": {},
   "source": [
    "This notebook contains helper functions that assist in labelling images with their species names <br>\n",
    "Developed by: Prakash Palanivelu Rajmohan"
   ]
  },
  {
   "cell_type": "markdown",
   "metadata": {},
   "source": [
    "## Count Unique Images\n",
    "Code to count the number of unique images ignoring filename replication in mewc_out.csv"
   ]
  },
  {
   "cell_type": "code",
   "execution_count": 6,
   "metadata": {},
   "outputs": [],
   "source": [
    "import pandas as pd\n",
    "\n",
    "# Replace 'your_file.csv' with the actual path to your CSV file\n",
    "file_path = 'your_file.csv'\n",
    "\n",
    "column_name = 'filename'\n",
    "\n",
    "# Read the CSV file into a pandas DataFrame\n",
    "df = pd.read_csv(file_path)\n",
    "\n",
    "# Find the number of unique rows based on the specified column\n",
    "unique_rows = df.drop_duplicates(subset=column_name)\n",
    "\n",
    "# Get the count of unique rows\n",
    "num_unique_rows = len(unique_rows)\n",
    "\n",
    "print(f\"Number of unique rows based on '{column_name}': {num_unique_rows}\")\n"
   ]
  },
  {
   "cell_type": "markdown",
   "metadata": {},
   "source": [
    "## Sorting based on high probabilities\n",
    "\n",
    "The species labels are allocated based on maximum probabilty\n",
    "\n",
    "Example:\n",
    "If the csv file contains data similar to:\n",
    "\n",
    "rownum,filename,label,class_id,prob,class_name,class_rank,date_time_orig,conf <br>\n",
    "\n",
    "0,file1.JPG,Tiger,Tiger,0.9348078,1,1.0,2023:01:01 00:00:00,<br>\n",
    "1,file1.JPG,Tiger,WB,0.0548096,1,1.0,2023:01:01 00:00:00,\n",
    "\n",
    "We remove rownum = 1 for file1 since it is not the max probabilty for that file"
   ]
  },
  {
   "cell_type": "code",
   "execution_count": 3,
   "metadata": {},
   "outputs": [],
   "source": [
    "import pandas as pd\n",
    "\n",
    "# Read the CSV file\n",
    "df = pd.read_csv(file_path)\n",
    "\n",
    "# Sort by filename and prob in descending order\n",
    "df.sort_values(by=['filename', 'prob'], ascending=[True, False], inplace=True)\n",
    "\n",
    "# Keep only the first row for each unique filename\n",
    "df.drop_duplicates(subset='filename', keep='first', inplace=True)\n",
    "\n",
    "# Save the updated DataFrame to a new CSV file\n",
    "df.to_csv('output_file.csv', index=False)\n"
   ]
  },
  {
   "cell_type": "markdown",
   "metadata": {},
   "source": [
    "## Rewriting JSON file\n",
    "\n",
    "The below code is helpful to change the names of labels with maximum confidence and sort them in an ascending order"
   ]
  },
  {
   "cell_type": "code",
   "execution_count": 4,
   "metadata": {},
   "outputs": [],
   "source": [
    "import csv\n",
    "import json\n",
    "\n",
    "# Read CSV file\n",
    "csv_file_path = 'output_file.csv'\n",
    "csv_data = []\n",
    "with open(csv_file_path, 'r') as csv_file:\n",
    "    csv_reader = csv.DictReader(csv_file)\n",
    "    for row in csv_reader:\n",
    "        csv_data.append(row)\n",
    "\n",
    "# Read JSON file\n",
    "json_file_path = 'file_path.json'\n",
    "with open(json_file_path, 'r') as json_file:\n",
    "    json_data = json.load(json_file)\n",
    "\n",
    "# Process JSON data\n",
    "new_json_data = {\"images\": [], \"detection_categories\": json_data['detection_categories'],\"info\": json_data['info'] }\n",
    "for item in json_data['images']:\n",
    "    file_name = item['file'].split('/')[-1]\n",
    "    conf_list = [detection['conf'] for detection in item['detections'] if 'conf' in detection]\n",
    "\n",
    "    if len(conf_list) == 1:\n",
    "        max_conf = conf_list[0]\n",
    "        max_conf_detection = next((d for d in item['detections'] if d.get('conf') == max_conf), None)\n",
    "\n",
    "        if max_conf_detection and max_conf_detection['category'] == '1':\n",
    "            for csv_row in csv_data:\n",
    "                if csv_row['filename'] == file_name:\n",
    "                    max_conf_detection['category'] = csv_row['class_id']\n",
    "                    break\n",
    "    elif len(conf_list) > 1:\n",
    "        max_conf = max(conf_list)\n",
    "        for detection in item['detections']:\n",
    "            if 'conf' in detection and detection['conf'] == max_conf and detection.get('category') == '1':\n",
    "                for csv_row in csv_data:\n",
    "                    if csv_row['filename'] == file_name:\n",
    "                        detection['category'] = csv_row['class_id']\n",
    "                        break                \n",
    "    print(item)\n",
    "    sorted_detections = sorted(item['detections'], key=lambda x: x['conf'])\n",
    "    item['detections'] = sorted_detections\n",
    "    new_json_data['images'].append(item)\n",
    "\n",
    "# Write the new JSON data to a file\n",
    "new_json_file_path = f'/home/s4737925/MEWC/scripts/misc/md_output_new_jsonfile.json'\n",
    "with open(new_json_file_path, 'w') as new_json_file:\n",
    "    json.dump(new_json_data, new_json_file, indent=2)\n",
    "\n",
    "print(f\"New JSON file created at: {new_json_file_path}\")\n"
   ]
  },
  {
   "cell_type": "markdown",
   "metadata": {},
   "source": [
    "## Label Names\n",
    "\n",
    "The below code is to get the label names for drawing bounding boxe"
   ]
  },
  {
   "cell_type": "code",
   "execution_count": 5,
   "metadata": {},
   "outputs": [],
   "source": [
    "import os\n",
    "\n",
    "def get_directories(path):\n",
    "    directories = [d for d in os.listdir(path) if os.path.isdir(os.path.join(path, d))]\n",
    "    return directories\n",
    "\n",
    "# Replace 'your_directory_path' with the actual path of the directory you want to inspect\n",
    "directory_path = 'your_directory_path'\n",
    "directories_list = get_directories(directory_path)\n",
    "print(\"Directories in\", directory_path, \":\", directories_list)\n"
   ]
  }
 ],
 "metadata": {
  "kernelspec": {
   "display_name": "cameratraps-detector",
   "language": "python",
   "name": "python3"
  },
  "language_info": {
   "codemirror_mode": {
    "name": "ipython",
    "version": 3
   },
   "file_extension": ".py",
   "mimetype": "text/x-python",
   "name": "python",
   "nbconvert_exporter": "python",
   "pygments_lexer": "ipython3",
   "version": "3.10.9"
  }
 },
 "nbformat": 4,
 "nbformat_minor": 2
}
